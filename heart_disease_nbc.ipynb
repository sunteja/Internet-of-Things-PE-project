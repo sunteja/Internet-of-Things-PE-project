{
 "cells": [
  {
   "cell_type": "markdown",
   "metadata": {},
   "source": [
    "## Importing the necessary libraries"
   ]
  },
  {
   "cell_type": "code",
   "execution_count": 1,
   "metadata": {},
   "outputs": [
    {
     "name": "stdout",
     "output_type": "stream",
     "text": [
      "['get-pip.py', 'heart.csv', 'a', 'README.md', 'heart_disease_nbc.ipynb', '.gitignore', '.ipynb_checkpoints', '.git', 'test.ipynb']\n"
     ]
    }
   ],
   "source": [
    "import numpy as np\n",
    "import pandas as pd\n",
    "import matplotlib.pyplot as plt\n",
    "import seaborn as sns\n",
    "import math\n",
    "%matplotlib inline\n",
    "\n",
    "import os\n",
    "print(os.listdir())\n",
    "\n",
    "import warnings\n",
    "warnings.filterwarnings('ignore')"
   ]
  },
  {
   "cell_type": "code",
   "execution_count": 2,
   "metadata": {},
   "outputs": [],
   "source": [
    "dataset = pd.read_csv(\"heart.csv\")"
   ]
  },
  {
   "cell_type": "code",
   "execution_count": 3,
   "metadata": {},
   "outputs": [
    {
     "data": {
      "text/html": [
       "<div>\n",
       "<style scoped>\n",
       "    .dataframe tbody tr th:only-of-type {\n",
       "        vertical-align: middle;\n",
       "    }\n",
       "\n",
       "    .dataframe tbody tr th {\n",
       "        vertical-align: top;\n",
       "    }\n",
       "\n",
       "    .dataframe thead th {\n",
       "        text-align: right;\n",
       "    }\n",
       "</style>\n",
       "<table border=\"1\" class=\"dataframe\">\n",
       "  <thead>\n",
       "    <tr style=\"text-align: right;\">\n",
       "      <th></th>\n",
       "      <th>age</th>\n",
       "      <th>sex</th>\n",
       "      <th>cp</th>\n",
       "      <th>trestbps</th>\n",
       "      <th>chol</th>\n",
       "      <th>fbs</th>\n",
       "      <th>restecg</th>\n",
       "      <th>thalach</th>\n",
       "      <th>exang</th>\n",
       "      <th>oldpeak</th>\n",
       "      <th>slope</th>\n",
       "      <th>ca</th>\n",
       "      <th>thal</th>\n",
       "      <th>target</th>\n",
       "    </tr>\n",
       "  </thead>\n",
       "  <tbody>\n",
       "    <tr>\n",
       "      <th>0</th>\n",
       "      <td>52</td>\n",
       "      <td>1</td>\n",
       "      <td>0</td>\n",
       "      <td>125</td>\n",
       "      <td>212</td>\n",
       "      <td>0</td>\n",
       "      <td>1</td>\n",
       "      <td>168</td>\n",
       "      <td>0</td>\n",
       "      <td>1.0</td>\n",
       "      <td>2</td>\n",
       "      <td>2</td>\n",
       "      <td>3</td>\n",
       "      <td>0</td>\n",
       "    </tr>\n",
       "    <tr>\n",
       "      <th>1</th>\n",
       "      <td>53</td>\n",
       "      <td>1</td>\n",
       "      <td>0</td>\n",
       "      <td>140</td>\n",
       "      <td>203</td>\n",
       "      <td>1</td>\n",
       "      <td>0</td>\n",
       "      <td>155</td>\n",
       "      <td>1</td>\n",
       "      <td>3.1</td>\n",
       "      <td>0</td>\n",
       "      <td>0</td>\n",
       "      <td>3</td>\n",
       "      <td>0</td>\n",
       "    </tr>\n",
       "    <tr>\n",
       "      <th>2</th>\n",
       "      <td>70</td>\n",
       "      <td>1</td>\n",
       "      <td>0</td>\n",
       "      <td>145</td>\n",
       "      <td>174</td>\n",
       "      <td>0</td>\n",
       "      <td>1</td>\n",
       "      <td>125</td>\n",
       "      <td>1</td>\n",
       "      <td>2.6</td>\n",
       "      <td>0</td>\n",
       "      <td>0</td>\n",
       "      <td>3</td>\n",
       "      <td>0</td>\n",
       "    </tr>\n",
       "    <tr>\n",
       "      <th>3</th>\n",
       "      <td>61</td>\n",
       "      <td>1</td>\n",
       "      <td>0</td>\n",
       "      <td>148</td>\n",
       "      <td>203</td>\n",
       "      <td>0</td>\n",
       "      <td>1</td>\n",
       "      <td>161</td>\n",
       "      <td>0</td>\n",
       "      <td>0.0</td>\n",
       "      <td>2</td>\n",
       "      <td>1</td>\n",
       "      <td>3</td>\n",
       "      <td>0</td>\n",
       "    </tr>\n",
       "    <tr>\n",
       "      <th>4</th>\n",
       "      <td>62</td>\n",
       "      <td>0</td>\n",
       "      <td>0</td>\n",
       "      <td>138</td>\n",
       "      <td>294</td>\n",
       "      <td>1</td>\n",
       "      <td>1</td>\n",
       "      <td>106</td>\n",
       "      <td>0</td>\n",
       "      <td>1.9</td>\n",
       "      <td>1</td>\n",
       "      <td>3</td>\n",
       "      <td>2</td>\n",
       "      <td>0</td>\n",
       "    </tr>\n",
       "    <tr>\n",
       "      <th>...</th>\n",
       "      <td>...</td>\n",
       "      <td>...</td>\n",
       "      <td>...</td>\n",
       "      <td>...</td>\n",
       "      <td>...</td>\n",
       "      <td>...</td>\n",
       "      <td>...</td>\n",
       "      <td>...</td>\n",
       "      <td>...</td>\n",
       "      <td>...</td>\n",
       "      <td>...</td>\n",
       "      <td>...</td>\n",
       "      <td>...</td>\n",
       "      <td>...</td>\n",
       "    </tr>\n",
       "    <tr>\n",
       "      <th>1020</th>\n",
       "      <td>59</td>\n",
       "      <td>1</td>\n",
       "      <td>1</td>\n",
       "      <td>140</td>\n",
       "      <td>221</td>\n",
       "      <td>0</td>\n",
       "      <td>1</td>\n",
       "      <td>164</td>\n",
       "      <td>1</td>\n",
       "      <td>0.0</td>\n",
       "      <td>2</td>\n",
       "      <td>0</td>\n",
       "      <td>2</td>\n",
       "      <td>1</td>\n",
       "    </tr>\n",
       "    <tr>\n",
       "      <th>1021</th>\n",
       "      <td>60</td>\n",
       "      <td>1</td>\n",
       "      <td>0</td>\n",
       "      <td>125</td>\n",
       "      <td>258</td>\n",
       "      <td>0</td>\n",
       "      <td>0</td>\n",
       "      <td>141</td>\n",
       "      <td>1</td>\n",
       "      <td>2.8</td>\n",
       "      <td>1</td>\n",
       "      <td>1</td>\n",
       "      <td>3</td>\n",
       "      <td>0</td>\n",
       "    </tr>\n",
       "    <tr>\n",
       "      <th>1022</th>\n",
       "      <td>47</td>\n",
       "      <td>1</td>\n",
       "      <td>0</td>\n",
       "      <td>110</td>\n",
       "      <td>275</td>\n",
       "      <td>0</td>\n",
       "      <td>0</td>\n",
       "      <td>118</td>\n",
       "      <td>1</td>\n",
       "      <td>1.0</td>\n",
       "      <td>1</td>\n",
       "      <td>1</td>\n",
       "      <td>2</td>\n",
       "      <td>0</td>\n",
       "    </tr>\n",
       "    <tr>\n",
       "      <th>1023</th>\n",
       "      <td>50</td>\n",
       "      <td>0</td>\n",
       "      <td>0</td>\n",
       "      <td>110</td>\n",
       "      <td>254</td>\n",
       "      <td>0</td>\n",
       "      <td>0</td>\n",
       "      <td>159</td>\n",
       "      <td>0</td>\n",
       "      <td>0.0</td>\n",
       "      <td>2</td>\n",
       "      <td>0</td>\n",
       "      <td>2</td>\n",
       "      <td>1</td>\n",
       "    </tr>\n",
       "    <tr>\n",
       "      <th>1024</th>\n",
       "      <td>54</td>\n",
       "      <td>1</td>\n",
       "      <td>0</td>\n",
       "      <td>120</td>\n",
       "      <td>188</td>\n",
       "      <td>0</td>\n",
       "      <td>1</td>\n",
       "      <td>113</td>\n",
       "      <td>0</td>\n",
       "      <td>1.4</td>\n",
       "      <td>1</td>\n",
       "      <td>1</td>\n",
       "      <td>3</td>\n",
       "      <td>0</td>\n",
       "    </tr>\n",
       "  </tbody>\n",
       "</table>\n",
       "<p>1025 rows × 14 columns</p>\n",
       "</div>"
      ],
      "text/plain": [
       "      age  sex  cp  trestbps  chol  fbs  restecg  thalach  exang  oldpeak  \\\n",
       "0      52    1   0       125   212    0        1      168      0      1.0   \n",
       "1      53    1   0       140   203    1        0      155      1      3.1   \n",
       "2      70    1   0       145   174    0        1      125      1      2.6   \n",
       "3      61    1   0       148   203    0        1      161      0      0.0   \n",
       "4      62    0   0       138   294    1        1      106      0      1.9   \n",
       "...   ...  ...  ..       ...   ...  ...      ...      ...    ...      ...   \n",
       "1020   59    1   1       140   221    0        1      164      1      0.0   \n",
       "1021   60    1   0       125   258    0        0      141      1      2.8   \n",
       "1022   47    1   0       110   275    0        0      118      1      1.0   \n",
       "1023   50    0   0       110   254    0        0      159      0      0.0   \n",
       "1024   54    1   0       120   188    0        1      113      0      1.4   \n",
       "\n",
       "      slope  ca  thal  target  \n",
       "0         2   2     3       0  \n",
       "1         0   0     3       0  \n",
       "2         0   0     3       0  \n",
       "3         2   1     3       0  \n",
       "4         1   3     2       0  \n",
       "...     ...  ..   ...     ...  \n",
       "1020      2   0     2       1  \n",
       "1021      1   1     3       0  \n",
       "1022      1   1     2       0  \n",
       "1023      2   0     2       1  \n",
       "1024      1   1     3       0  \n",
       "\n",
       "[1025 rows x 14 columns]"
      ]
     },
     "execution_count": 3,
     "metadata": {},
     "output_type": "execute_result"
    }
   ],
   "source": [
    "dataset"
   ]
  },
  {
   "cell_type": "code",
   "execution_count": 4,
   "metadata": {},
   "outputs": [
    {
     "data": {
      "text/plain": [
       "(1025, 14)"
      ]
     },
     "execution_count": 4,
     "metadata": {},
     "output_type": "execute_result"
    }
   ],
   "source": [
    "dataset.shape"
   ]
  },
  {
   "cell_type": "code",
   "execution_count": 5,
   "metadata": {},
   "outputs": [
    {
     "name": "stdout",
     "output_type": "stream",
     "text": [
      "<class 'pandas.core.frame.DataFrame'>\n",
      "RangeIndex: 1025 entries, 0 to 1024\n",
      "Data columns (total 14 columns):\n",
      " #   Column    Non-Null Count  Dtype  \n",
      "---  ------    --------------  -----  \n",
      " 0   age       1025 non-null   int64  \n",
      " 1   sex       1025 non-null   int64  \n",
      " 2   cp        1025 non-null   int64  \n",
      " 3   trestbps  1025 non-null   int64  \n",
      " 4   chol      1025 non-null   int64  \n",
      " 5   fbs       1025 non-null   int64  \n",
      " 6   restecg   1025 non-null   int64  \n",
      " 7   thalach   1025 non-null   int64  \n",
      " 8   exang     1025 non-null   int64  \n",
      " 9   oldpeak   1025 non-null   float64\n",
      " 10  slope     1025 non-null   int64  \n",
      " 11  ca        1025 non-null   int64  \n",
      " 12  thal      1025 non-null   int64  \n",
      " 13  target    1025 non-null   int64  \n",
      "dtypes: float64(1), int64(13)\n",
      "memory usage: 112.2 KB\n"
     ]
    }
   ],
   "source": [
    "dataset.info()"
   ]
  },
  {
   "cell_type": "markdown",
   "metadata": {},
   "source": [
    "#### Getting all the details like mean, standard deviation, minimum etc of the target variable"
   ]
  },
  {
   "cell_type": "code",
   "execution_count": 6,
   "metadata": {},
   "outputs": [
    {
     "data": {
      "text/plain": [
       "count    1025.000000\n",
       "mean        0.513171\n",
       "std         0.500070\n",
       "min         0.000000\n",
       "25%         0.000000\n",
       "50%         1.000000\n",
       "75%         1.000000\n",
       "max         1.000000\n",
       "Name: target, dtype: float64"
      ]
     },
     "execution_count": 6,
     "metadata": {},
     "output_type": "execute_result"
    }
   ],
   "source": [
    "dataset['target'].describe()"
   ]
  },
  {
   "cell_type": "code",
   "execution_count": 7,
   "metadata": {},
   "outputs": [
    {
     "data": {
      "text/plain": [
       "array([0, 1])"
      ]
     },
     "execution_count": 7,
     "metadata": {},
     "output_type": "execute_result"
    }
   ],
   "source": [
    "dataset['target'].unique()"
   ]
  },
  {
   "cell_type": "markdown",
   "metadata": {},
   "source": [
    "##### From the above result i.e dataset.unique() result, we can see that this is a classification problem. You should classify a datapoint as a 0 or 1."
   ]
  },
  {
   "cell_type": "markdown",
   "metadata": {},
   "source": [
    "## Correlations"
   ]
  },
  {
   "cell_type": "code",
   "execution_count": 8,
   "metadata": {},
   "outputs": [
    {
     "name": "stdout",
     "output_type": "stream",
     "text": [
      "target      1.000000\n",
      "oldpeak     0.438441\n",
      "exang       0.438029\n",
      "cp          0.434854\n",
      "thalach     0.422895\n",
      "ca          0.382085\n",
      "slope       0.345512\n",
      "thal        0.337838\n",
      "sex         0.279501\n",
      "age         0.229324\n",
      "trestbps    0.138772\n",
      "restecg     0.134468\n",
      "chol        0.099966\n",
      "fbs         0.041164\n",
      "Name: target, dtype: float64\n"
     ]
    }
   ],
   "source": [
    "print(dataset.corr()['target'].abs().sort_values(ascending=False))"
   ]
  },
  {
   "cell_type": "markdown",
   "metadata": {},
   "source": [
    "## Exploratory Data Analysis"
   ]
  },
  {
   "cell_type": "code",
   "execution_count": 9,
   "metadata": {},
   "outputs": [
    {
     "name": "stdout",
     "output_type": "stream",
     "text": [
      "1    526\n",
      "0    499\n",
      "Name: target, dtype: int64\n"
     ]
    },
    {
     "data": {
      "image/png": "[encoded data removed]",
      "text/plain": [
       "<Figure size 432x288 with 1 Axes>"
      ]
     },
     "metadata": {
      "needs_background": "light"
     },
     "output_type": "display_data"
    }
   ],
   "source": [
    "y = dataset['target']\n",
    "sns.countplot(y)\n",
    "target_temp = dataset.target.value_counts()\n",
    "print(target_temp)"
   ]
  },
  {
   "cell_type": "markdown",
   "metadata": {},
   "source": [
    "#### Analysing other columns like age, sex etc."
   ]
  },
  {
   "cell_type": "code",
   "execution_count": 10,
   "metadata": {},
   "outputs": [
    {
     "data": {
      "text/plain": [
       "array([1, 0])"
      ]
     },
     "execution_count": 10,
     "metadata": {},
     "output_type": "execute_result"
    }
   ],
   "source": [
    "dataset[\"sex\"].unique()"
   ]
  },
  {
   "cell_type": "code",
   "execution_count": 11,
   "metadata": {},
   "outputs": [
    {
     "data": {
      "text/plain": [
       "<AxesSubplot:xlabel='sex', ylabel='target'>"
      ]
     },
     "execution_count": 11,
     "metadata": {},
     "output_type": "execute_result"
    },
    {
     "data": {
      "image/png": "[encoded data removed]",
      "text/plain": [
       "<Figure size 432x288 with 1 Axes>"
      ]
     },
     "metadata": {
      "needs_background": "light"
     },
     "output_type": "display_data"
    }
   ],
   "source": [
    "sns.barplot(dataset[\"sex\"],y)"
   ]
  },
  {
   "cell_type": "markdown",
   "metadata": {},
   "source": [
    "#### Through the above plot we can conclude that females are more likely to have heart problems when compared to males."
   ]
  },
  {
   "cell_type": "markdown",
   "metadata": {},
   "source": [
    "#### Next we analyze the chest pain type feature"
   ]
  },
  {
   "cell_type": "code",
   "execution_count": 12,
   "metadata": {},
   "outputs": [
    {
     "data": {
      "text/plain": [
       "array([0, 1, 2, 3])"
      ]
     },
     "execution_count": 12,
     "metadata": {},
     "output_type": "execute_result"
    }
   ],
   "source": [
    "dataset[\"cp\"].unique()"
   ]
  },
  {
   "cell_type": "code",
   "execution_count": 13,
   "metadata": {},
   "outputs": [
    {
     "data": {
      "text/plain": [
       "<AxesSubplot:xlabel='cp', ylabel='target'>"
      ]
     },
     "execution_count": 13,
     "metadata": {},
     "output_type": "execute_result"
    },
    {
     "data": {
      "image/png": "[encoded data removed]",
      "text/plain": [
       "<Figure size 432x288 with 1 Axes>"
      ]
     },
     "metadata": {
      "needs_background": "light"
     },
     "output_type": "display_data"
    }
   ],
   "source": [
    "sns.barplot(dataset[\"cp\"],y)"
   ]
  },
  {
   "cell_type": "markdown",
   "metadata": {},
   "source": [
    "#### From the plot above we see that chest pain of '0', i.e. the ones with typical angina are much less likely to have heart problems"
   ]
  },
  {
   "cell_type": "markdown",
   "metadata": {},
   "source": [
    "### Analysing the restecg feature"
   ]
  },
  {
   "cell_type": "code",
   "execution_count": 14,
   "metadata": {},
   "outputs": [
    {
     "data": {
      "text/plain": [
       "array([1, 0, 2])"
      ]
     },
     "execution_count": 14,
     "metadata": {},
     "output_type": "execute_result"
    }
   ],
   "source": [
    "dataset[\"restecg\"].unique()"
   ]
  },
  {
   "cell_type": "code",
   "execution_count": 15,
   "metadata": {},
   "outputs": [
    {
     "data": {
      "text/plain": [
       "<AxesSubplot:xlabel='restecg', ylabel='target'>"
      ]
     },
     "execution_count": 15,
     "metadata": {},
     "output_type": "execute_result"
    },
    {
     "data": {
      "image/png": "[encoded data removed]",
      "text/plain": [
       "<Figure size 432x288 with 1 Axes>"
      ]
     },
     "metadata": {
      "needs_background": "light"
     },
     "output_type": "display_data"
    }
   ],
   "source": [
    "sns.barplot(dataset[\"restecg\"],y)"
   ]
  },
  {
   "cell_type": "markdown",
   "metadata": {},
   "source": [
    "#### From the above plot we see that people with restecg 0 and 1 are more likely to have a heart attack than the ones with restecg 2."
   ]
  },
  {
   "cell_type": "markdown",
   "metadata": {},
   "source": [
    "### Analyzing the slope feature"
   ]
  },
  {
   "cell_type": "code",
   "execution_count": 16,
   "metadata": {},
   "outputs": [
    {
     "data": {
      "text/plain": [
       "array([2, 0, 1])"
      ]
     },
     "execution_count": 16,
     "metadata": {},
     "output_type": "execute_result"
    }
   ],
   "source": [
    "dataset[\"slope\"].unique()"
   ]
  },
  {
   "cell_type": "code",
   "execution_count": 17,
   "metadata": {},
   "outputs": [
    {
     "data": {
      "text/plain": [
       "<AxesSubplot:xlabel='slope', ylabel='target'>"
      ]
     },
     "execution_count": 17,
     "metadata": {},
     "output_type": "execute_result"
    },
    {
     "data": {
      "image/png": "[encoded data removed]",
      "text/plain": [
       "<Figure size 432x288 with 1 Axes>"
      ]
     },
     "metadata": {
      "needs_background": "light"
     },
     "output_type": "display_data"
    }
   ],
   "source": [
    "sns.barplot(dataset[\"slope\"],y)"
   ]
  },
  {
   "cell_type": "markdown",
   "metadata": {},
   "source": [
    "#### The graph above shows that the slope 2 causes heart pain much more than those with 1 and 0"
   ]
  },
  {
   "cell_type": "markdown",
   "metadata": {},
   "source": [
    "### Analysing the exang feature"
   ]
  },
  {
   "cell_type": "code",
   "execution_count": 18,
   "metadata": {},
   "outputs": [
    {
     "data": {
      "text/plain": [
       "array([0, 1])"
      ]
     },
     "execution_count": 18,
     "metadata": {},
     "output_type": "execute_result"
    }
   ],
   "source": [
    "dataset[\"exang\"].unique()"
   ]
  },
  {
   "cell_type": "code",
   "execution_count": 19,
   "metadata": {},
   "outputs": [
    {
     "data": {
      "text/plain": [
       "<AxesSubplot:xlabel='exang', ylabel='target'>"
      ]
     },
     "execution_count": 19,
     "metadata": {},
     "output_type": "execute_result"
    },
    {
     "data": {
      "image/png": "[encoded data removed]",
      "text/plain": [
       "<Figure size 432x288 with 1 Axes>"
      ]
     },
     "metadata": {
      "needs_background": "light"
     },
     "output_type": "display_data"
    }
   ],
   "source": [
    "sns.barplot(dataset[\"exang\"],y)"
   ]
  },
  {
   "cell_type": "markdown",
   "metadata": {},
   "source": [
    "#### The exang value of 1 i.e exercise induced angina are less likely to suffer from a heart disease"
   ]
  },
  {
   "cell_type": "markdown",
   "metadata": {},
   "source": [
    "### Analyzing the FBS feature"
   ]
  },
  {
   "cell_type": "code",
   "execution_count": 20,
   "metadata": {},
   "outputs": [
    {
     "data": {
      "text/plain": [
       "count    1025.000000\n",
       "mean        0.149268\n",
       "std         0.356527\n",
       "min         0.000000\n",
       "25%         0.000000\n",
       "50%         0.000000\n",
       "75%         0.000000\n",
       "max         1.000000\n",
       "Name: fbs, dtype: float64"
      ]
     },
     "execution_count": 20,
     "metadata": {},
     "output_type": "execute_result"
    }
   ],
   "source": [
    "dataset[\"fbs\"].describe()"
   ]
  },
  {
   "cell_type": "code",
   "execution_count": 21,
   "metadata": {},
   "outputs": [
    {
     "data": {
      "text/plain": [
       "array([0, 1])"
      ]
     },
     "execution_count": 21,
     "metadata": {},
     "output_type": "execute_result"
    }
   ],
   "source": [
    "dataset[\"fbs\"].unique()"
   ]
  },
  {
   "cell_type": "code",
   "execution_count": 22,
   "metadata": {},
   "outputs": [
    {
     "data": {
      "text/plain": [
       "<AxesSubplot:xlabel='fbs', ylabel='target'>"
      ]
     },
     "execution_count": 22,
     "metadata": {},
     "output_type": "execute_result"
    },
    {
     "data": {
      "image/png": "[encoded data removed]",
      "text/plain": [
       "<Figure size 432x288 with 1 Axes>"
      ]
     },
     "metadata": {
      "needs_background": "light"
     },
     "output_type": "display_data"
    }
   ],
   "source": [
    "sns.barplot(dataset[\"fbs\"],y)"
   ]
  },
  {
   "cell_type": "markdown",
   "metadata": {},
   "source": [
    "#### The plot looks alike for fbs = 1 and fbs = 0. So, nothing can be said from here"
   ]
  },
  {
   "cell_type": "markdown",
   "metadata": {},
   "source": [
    "### Analysing the tha1 feature"
   ]
  },
  {
   "cell_type": "code",
   "execution_count": 23,
   "metadata": {},
   "outputs": [
    {
     "data": {
      "text/plain": [
       "array([3, 2, 1, 0])"
      ]
     },
     "execution_count": 23,
     "metadata": {},
     "output_type": "execute_result"
    }
   ],
   "source": [
    "dataset[\"thal\"].unique()"
   ]
  },
  {
   "cell_type": "code",
   "execution_count": 24,
   "metadata": {},
   "outputs": [
    {
     "data": {
      "text/plain": [
       "<AxesSubplot:xlabel='thal', ylabel='target'>"
      ]
     },
     "execution_count": 24,
     "metadata": {},
     "output_type": "execute_result"
    },
    {
     "data": {
      "image/png": "[encoded data removed]",
      "text/plain": [
       "<Figure size 432x288 with 1 Axes>"
      ]
     },
     "metadata": {
      "needs_background": "light"
     },
     "output_type": "display_data"
    }
   ],
   "source": [
    "sns.barplot(dataset[\"thal\"],y)"
   ]
  },
  {
   "cell_type": "code",
   "execution_count": 25,
   "metadata": {},
   "outputs": [
    {
     "data": {
      "text/plain": [
       "<AxesSubplot:xlabel='thal', ylabel='Density'>"
      ]
     },
     "execution_count": 25,
     "metadata": {},
     "output_type": "execute_result"
    },
    {
     "data": {
      "image/png": "[encoded data removed]",
      "text/plain": [
       "<Figure size 432x288 with 1 Axes>"
      ]
     },
     "metadata": {
      "needs_background": "light"
     },
     "output_type": "display_data"
    }
   ],
   "source": [
    "sns.distplot(dataset[\"thal\"])"
   ]
  },
  {
   "cell_type": "markdown",
   "metadata": {},
   "source": [
    "#### The value of tha1 = 2 indicates that the person is more likely to suffer from a heart disease"
   ]
  },
  {
   "cell_type": "markdown",
   "metadata": {},
   "source": [
    "### Analysing the ca feature"
   ]
  },
  {
   "cell_type": "code",
   "execution_count": 26,
   "metadata": {},
   "outputs": [
    {
     "data": {
      "text/plain": [
       "array([2, 0, 1, 3, 4])"
      ]
     },
     "execution_count": 26,
     "metadata": {},
     "output_type": "execute_result"
    }
   ],
   "source": [
    "dataset[\"ca\"].unique()"
   ]
  },
  {
   "cell_type": "code",
   "execution_count": 27,
   "metadata": {},
   "outputs": [
    {
     "data": {
      "text/plain": [
       "<AxesSubplot:xlabel='ca', ylabel='count'>"
      ]
     },
     "execution_count": 27,
     "metadata": {},
     "output_type": "execute_result"
    },
    {
     "data": {
      "image/png": "[encoded data removed]",
      "text/plain": [
       "<Figure size 432x288 with 1 Axes>"
      ]
     },
     "metadata": {
      "needs_background": "light"
     },
     "output_type": "display_data"
    }
   ],
   "source": [
    "sns.countplot(dataset[\"ca\"])"
   ]
  },
  {
   "cell_type": "code",
   "execution_count": 28,
   "metadata": {},
   "outputs": [
    {
     "data": {
      "text/plain": [
       "<AxesSubplot:xlabel='ca', ylabel='target'>"
      ]
     },
     "execution_count": 28,
     "metadata": {},
     "output_type": "execute_result"
    },
    {
     "data": {
      "image/png": "[encoded data removed]",
      "text/plain": [
       "<Figure size 432x288 with 1 Axes>"
      ]
     },
     "metadata": {
      "needs_background": "light"
     },
     "output_type": "display_data"
    }
   ],
   "source": [
    "sns.barplot(dataset[\"ca\"],y)"
   ]
  },
  {
   "cell_type": "markdown",
   "metadata": {},
   "source": [
    "#### Patients with ca = 4 have a high risk of suffering from a heart disease"
   ]
  },
  {
   "cell_type": "markdown",
   "metadata": {},
   "source": [
    "## Train - Test split"
   ]
  },
  {
   "cell_type": "code",
   "execution_count": 29,
   "metadata": {},
   "outputs": [],
   "source": [
    "from sklearn.model_selection import train_test_split\n",
    "\n",
    "predictors = dataset.drop(\"target\",axis=1)\n",
    "target = dataset[\"target\"]\n",
    "\n",
    "X_train,X_test,Y_train,Y_test = train_test_split(predictors,target,test_size=0.20,random_state=0)"
   ]
  },
  {
   "cell_type": "code",
   "execution_count": 30,
   "metadata": {},
   "outputs": [
    {
     "data": {
      "text/plain": [
       "(820, 13)"
      ]
     },
     "execution_count": 30,
     "metadata": {},
     "output_type": "execute_result"
    }
   ],
   "source": [
    "X_train.shape"
   ]
  },
  {
   "cell_type": "code",
   "execution_count": 31,
   "metadata": {},
   "outputs": [
    {
     "data": {
      "text/plain": [
       "(205, 13)"
      ]
     },
     "execution_count": 31,
     "metadata": {},
     "output_type": "execute_result"
    }
   ],
   "source": [
    "X_test.shape"
   ]
  },
  {
   "cell_type": "code",
   "execution_count": 32,
   "metadata": {},
   "outputs": [
    {
     "data": {
      "text/plain": [
       "(820,)"
      ]
     },
     "execution_count": 32,
     "metadata": {},
     "output_type": "execute_result"
    }
   ],
   "source": [
    "Y_train.shape"
   ]
  },
  {
   "cell_type": "code",
   "execution_count": 33,
   "metadata": {},
   "outputs": [
    {
     "data": {
      "text/plain": [
       "(205,)"
      ]
     },
     "execution_count": 33,
     "metadata": {},
     "output_type": "execute_result"
    }
   ],
   "source": [
    "Y_test.shape"
   ]
  },
  {
   "cell_type": "markdown",
   "metadata": {},
   "source": [
    "## Model Fitting"
   ]
  },
  {
   "cell_type": "markdown",
   "metadata": {},
   "source": [
    "### Naive Bayes Classifer (NBC)"
   ]
  },
  {
   "cell_type": "code",
   "execution_count": 34,
   "metadata": {},
   "outputs": [],
   "source": [
    "from sklearn.naive_bayes import GaussianNB\n",
    "\n",
    "nb = GaussianNB()\n",
    "\n",
    "nb.fit(X_train,Y_train)\n",
    "\n",
    "Y_pred_nb = nb.predict(X_test)"
   ]
  },
  {
   "cell_type": "code",
   "execution_count": 35,
   "metadata": {},
   "outputs": [
    {
     "data": {
      "text/plain": [
       "(205,)"
      ]
     },
     "execution_count": 35,
     "metadata": {},
     "output_type": "execute_result"
    }
   ],
   "source": [
    "Y_pred_nb.shape"
   ]
  },
  {
   "cell_type": "code",
   "execution_count": 36,
   "metadata": {},
   "outputs": [
    {
     "name": "stdout",
     "output_type": "stream",
     "text": [
      "The accuracy score achieved using Naive Bayes is: 85.37 %\n"
     ]
    }
   ],
   "source": [
    "from sklearn.metrics import accuracy_score\n",
    "score_nb = round(accuracy_score(Y_pred_nb,Y_test)*100,2)\n",
    "\n",
    "print(\"The accuracy score achieved using Naive Bayes is: \"+str(score_nb)+\" %\")"
   ]
  },
  {
   "cell_type": "markdown",
   "metadata": {},
   "source": [
    "#### Printing confusion matrix"
   ]
  },
  {
   "cell_type": "code",
   "execution_count": 37,
   "metadata": {},
   "outputs": [
    {
     "data": {
      "text/plain": [
       "array([[79, 19],\n",
       "       [11, 96]])"
      ]
     },
     "execution_count": 37,
     "metadata": {},
     "output_type": "execute_result"
    }
   ],
   "source": [
    "from sklearn.metrics import confusion_matrix\n",
    "confusion_matrix(Y_test, Y_pred_nb)"
   ]
  },
  {
   "cell_type": "markdown",
   "metadata": {},
   "source": [
    "## Implementation from scratch"
   ]
  },
  {
   "cell_type": "code",
   "execution_count": 38,
   "metadata": {},
   "outputs": [],
   "source": [
    "import csv\n",
    "import numpy as np\n",
    "import pandas as pd\n",
    "from sklearn.metrics import confusion_matrix, f1_score, roc_curve, auc\n",
    "import matplotlib.pyplot as plt\n",
    "from itertools import cycle\n",
    "from scipy import interp\n",
    "import warnings\n",
    "import random\n",
    "import math\n",
    "       \n",
    "def calc_prior_prob(X, c):\n",
    "    cdataset = X[X['target'] == c]\n",
    "    return cdataset.shape[0]/X.shape[0]"
   ]
  },
  {
   "cell_type": "code",
   "execution_count": 39,
   "metadata": {},
   "outputs": [
    {
     "name": "stdout",
     "output_type": "stream",
     "text": [
      "0.4868292682926829\n",
      "0.5131707317073171\n"
     ]
    }
   ],
   "source": [
    "print(calc_prior_prob(dataset, 0))\n",
    "print(calc_prior_prob(dataset, 1))"
   ]
  },
  {
   "cell_type": "code",
   "execution_count": 40,
   "metadata": {},
   "outputs": [],
   "source": [
    "def posterior(X, x, c):\n",
    "    cdataset = X[X['target'] == c]\n",
    "    ans = 1.0\n",
    "    columns = X.columns\n",
    "    columns = np.delete(columns, -1)\n",
    "    for col in columns:\n",
    "        ans = ans * ((cdataset[cdataset[col] == x[col]]).shape[0]/cdataset.shape[0])\n",
    "    return ans"
   ]
  },
  {
   "cell_type": "code",
   "execution_count": 41,
   "metadata": {},
   "outputs": [],
   "source": [
    "def model(X):\n",
    "    prior0 = calc_prior_prob(X, 0)\n",
    "    prior1 = calc_prior_prob(X, 1)\n",
    "    return np.array([prior0, prior1])"
   ]
  },
  {
   "cell_type": "code",
   "execution_count": 42,
   "metadata": {},
   "outputs": [],
   "source": [
    "def postval(X, Y):\n",
    "    pval = np.array([])\n",
    "    for i in range(Y.shape[0]):\n",
    "        pval = np.append(pval, posterior(X, Y.iloc[i], 0))\n",
    "        pval = np.append(pval, posterior(X, Y.iloc[i], 1))\n",
    "    return pval"
   ]
  },
  {
   "cell_type": "code",
   "execution_count": 43,
   "metadata": {},
   "outputs": [],
   "source": [
    "def predict(Y, pr, pos):\n",
    "    preds = np.array([])\n",
    "    i = 0\n",
    "    while i < 2*Y.shape[0]:\n",
    "        p0 = pr[0] * pos[i]\n",
    "        p1 = pr[1] * pos[i+1]\n",
    "        if p0>p1: c = 0\n",
    "        else: c = 1\n",
    "        preds = np.append(preds, c)\n",
    "        i = i+2\n",
    "    return preds"
   ]
  },
  {
   "cell_type": "code",
   "execution_count": 44,
   "metadata": {},
   "outputs": [],
   "source": [
    "training_data = dataset.sample(frac=0.8, random_state=25)\n",
    "testing_data = dataset.drop(training_data.index)"
   ]
  },
  {
   "cell_type": "code",
   "execution_count": 45,
   "metadata": {},
   "outputs": [],
   "source": [
    "m = model(training_data)"
   ]
  },
  {
   "cell_type": "code",
   "execution_count": 46,
   "metadata": {},
   "outputs": [],
   "source": [
    "pval = postval(training_data, testing_data)"
   ]
  },
  {
   "cell_type": "code",
   "execution_count": 47,
   "metadata": {},
   "outputs": [
    {
     "data": {
      "text/plain": [
       "array([0.49146341, 0.50853659])"
      ]
     },
     "execution_count": 47,
     "metadata": {},
     "output_type": "execute_result"
    }
   ],
   "source": [
    "m"
   ]
  },
  {
   "cell_type": "code",
   "execution_count": 48,
   "metadata": {},
   "outputs": [
    {
     "data": {
      "text/plain": [
       "array([7.18936352e-10, 0.00000000e+00, 7.74405177e-13, 4.13928505e-14,\n",
       "       0.00000000e+00, 3.52779297e-13, 1.28551726e-11, 0.00000000e+00,\n",
       "       0.00000000e+00, 1.64260862e-13, 8.40456359e-11, 0.00000000e+00,\n",
       "       4.71792367e-14, 0.00000000e+00, 1.51179243e-10, 0.00000000e+00,\n",
       "       0.00000000e+00, 1.01600438e-11, 5.25250426e-13, 8.72816569e-12,\n",
       "       8.18790772e-13, 8.25565289e-12, 0.00000000e+00, 9.14961445e-10,\n",
       "       1.90173536e-12, 0.00000000e+00, 0.00000000e+00, 1.30519789e-10,\n",
       "       9.35339844e-12, 0.00000000e+00, 0.00000000e+00, 1.58203723e-09,\n",
       "       3.92743429e-12, 1.45880519e-14, 0.00000000e+00, 4.69204074e-12,\n",
       "       0.00000000e+00, 1.04004744e-11, 7.12427579e-12, 0.00000000e+00,\n",
       "       5.66090535e-12, 0.00000000e+00, 5.77135761e-13, 0.00000000e+00,\n",
       "       0.00000000e+00, 6.41507653e-12, 7.35496150e-11, 0.00000000e+00,\n",
       "       8.70302186e-13, 8.55396338e-12, 1.22169925e-09, 0.00000000e+00,\n",
       "       0.00000000e+00, 2.39682405e-11, 0.00000000e+00, 1.43836835e-10,\n",
       "       0.00000000e+00, 1.01600438e-11, 0.00000000e+00, 4.71936316e-09,\n",
       "       4.08318602e-11, 0.00000000e+00, 0.00000000e+00, 1.95171617e-11,\n",
       "       0.00000000e+00, 1.51394364e-09, 8.97068532e-12, 0.00000000e+00,\n",
       "       1.06356193e-12, 0.00000000e+00, 0.00000000e+00, 3.69043444e-12,\n",
       "       6.18950817e-12, 0.00000000e+00, 0.00000000e+00, 2.47757195e-10,\n",
       "       1.97413660e-11, 0.00000000e+00, 6.32789775e-10, 0.00000000e+00,\n",
       "       3.16670158e-10, 0.00000000e+00, 2.10736600e-12, 0.00000000e+00,\n",
       "       1.44959985e-13, 3.21509189e-14, 0.00000000e+00, 1.95171617e-11,\n",
       "       0.00000000e+00, 4.08561860e-13, 3.39881970e-11, 0.00000000e+00,\n",
       "       0.00000000e+00, 1.83094875e-09, 0.00000000e+00, 4.53468902e-13,\n",
       "       0.00000000e+00, 1.84636343e-11, 5.53154141e-13, 6.63870954e-16,\n",
       "       8.79666383e-11, 0.00000000e+00, 0.00000000e+00, 1.60821738e-13,\n",
       "       0.00000000e+00, 2.77431740e-09, 0.00000000e+00, 1.81688844e-10,\n",
       "       2.10736600e-12, 0.00000000e+00, 0.00000000e+00, 6.15009606e-11,\n",
       "       0.00000000e+00, 1.40776352e-10, 8.71736032e-12, 4.44299852e-11,\n",
       "       3.79813156e-11, 0.00000000e+00, 0.00000000e+00, 2.77431740e-09,\n",
       "       0.00000000e+00, 1.08586391e-09, 8.70302186e-13, 8.55396338e-12,\n",
       "       1.08543087e-13, 0.00000000e+00, 9.35339844e-12, 0.00000000e+00,\n",
       "       0.00000000e+00, 2.28177649e-09, 5.69839968e-10, 0.00000000e+00,\n",
       "       0.00000000e+00, 5.05910061e-12, 0.00000000e+00, 4.53468902e-13,\n",
       "       0.00000000e+00, 7.66520310e-10, 2.26130285e-09, 9.82051772e-11,\n",
       "       2.03573490e-12, 1.52717032e-10, 1.46722930e-11, 0.00000000e+00,\n",
       "       0.00000000e+00, 3.85285581e-13, 3.07786861e-10, 2.17061893e-12,\n",
       "       0.00000000e+00, 4.88403338e-11, 0.00000000e+00, 1.40776352e-10,\n",
       "       5.42743667e-10, 0.00000000e+00, 5.73553275e-13, 0.00000000e+00,\n",
       "       6.70201145e-15, 3.16605553e-12, 3.95974947e-12, 4.73278003e-10,\n",
       "       0.00000000e+00, 7.17324742e-12, 0.00000000e+00, 7.75886769e-13,\n",
       "       8.39111857e-11, 2.06677889e-12, 3.62859182e-11, 0.00000000e+00,\n",
       "       1.12759142e-11, 0.00000000e+00, 1.30706904e-11, 1.18050965e-12,\n",
       "       0.00000000e+00, 5.95870896e-11, 0.00000000e+00, 5.01435770e-09,\n",
       "       2.22359443e-11, 6.40984986e-12, 3.40987933e-11, 1.29155969e-10,\n",
       "       4.33603577e-12, 2.49972919e-13, 2.79930270e-12, 4.02191129e-09,\n",
       "       1.23205359e-10, 2.41811965e-12, 0.00000000e+00, 3.85285581e-13,\n",
       "       0.00000000e+00, 2.21945106e-10, 9.79388533e-12, 1.78425829e-11,\n",
       "       0.00000000e+00, 1.84636343e-11, 3.33754357e-10, 0.00000000e+00,\n",
       "       0.00000000e+00, 1.00627667e-10, 0.00000000e+00, 1.00627667e-10,\n",
       "       0.00000000e+00, 2.77431740e-09, 4.13169425e-11, 0.00000000e+00,\n",
       "       0.00000000e+00, 3.01915674e-11, 6.45753511e-12, 0.00000000e+00,\n",
       "       4.35314173e-11, 8.35660195e-13, 1.89952426e-13, 6.77864147e-13,\n",
       "       0.00000000e+00, 1.95094457e-11, 0.00000000e+00, 3.79190570e-08,\n",
       "       0.00000000e+00, 1.05371497e-10, 1.50457020e-13, 0.00000000e+00,\n",
       "       1.44959985e-13, 3.21509189e-14, 0.00000000e+00, 4.61903148e-10,\n",
       "       0.00000000e+00, 1.60821738e-13, 0.00000000e+00, 1.51394364e-09,\n",
       "       3.79813156e-11, 0.00000000e+00, 0.00000000e+00, 2.36335258e-08,\n",
       "       6.68101860e-12, 0.00000000e+00, 1.66131037e-11, 7.41577361e-09,\n",
       "       2.69962935e-11, 2.66207258e-10, 5.69839968e-10, 0.00000000e+00,\n",
       "       2.31472014e-10, 0.00000000e+00, 1.59331575e-12, 0.00000000e+00,\n",
       "       3.09056917e-12, 0.00000000e+00, 0.00000000e+00, 1.71946705e-08,\n",
       "       0.00000000e+00, 1.48307979e-08, 3.17315890e-12, 3.23179453e-17,\n",
       "       1.81542080e-13, 2.72759928e-10, 4.63835916e-14, 0.00000000e+00,\n",
       "       0.00000000e+00, 3.43103647e-13, 3.40987933e-11, 1.29155969e-10,\n",
       "       1.40098231e-11, 0.00000000e+00, 8.12755675e-11, 1.09106676e-10,\n",
       "       0.00000000e+00, 4.42786837e-10, 7.40038703e-11, 0.00000000e+00,\n",
       "       3.95974947e-12, 4.73278003e-10, 0.00000000e+00, 2.77431740e-09,\n",
       "       0.00000000e+00, 3.96637549e-13, 2.92375783e-12, 0.00000000e+00,\n",
       "       2.77649343e-09, 9.29360040e-13, 0.00000000e+00, 2.21945106e-10,\n",
       "       0.00000000e+00, 1.06156268e-10, 3.62859182e-11, 0.00000000e+00,\n",
       "       3.62859182e-11, 0.00000000e+00, 0.00000000e+00, 7.01230014e-12,\n",
       "       0.00000000e+00, 3.07116882e-13, 5.74604328e-11, 0.00000000e+00,\n",
       "       0.00000000e+00, 7.22728659e-11, 0.00000000e+00, 6.12055327e-09,\n",
       "       0.00000000e+00, 1.73942111e-11, 1.71116173e-10, 0.00000000e+00,\n",
       "       0.00000000e+00, 1.91751230e-11, 8.79666383e-11, 0.00000000e+00,\n",
       "       0.00000000e+00, 1.30519789e-10, 1.46722930e-11, 0.00000000e+00,\n",
       "       5.42743667e-10, 0.00000000e+00, 0.00000000e+00, 2.60885126e-11,\n",
       "       5.25250426e-13, 8.72816569e-12, 4.81111723e-13, 2.94472315e-11,\n",
       "       1.02398403e-11, 0.00000000e+00, 1.16261834e-10, 0.00000000e+00,\n",
       "       0.00000000e+00, 6.32352631e-12, 0.00000000e+00, 2.82375957e-09,\n",
       "       8.71736032e-12, 4.44299852e-11, 3.58849269e-11, 6.74114575e-10,\n",
       "       1.65997161e-12, 0.00000000e+00, 0.00000000e+00, 1.59375254e-09,\n",
       "       3.67129792e-11, 0.00000000e+00, 0.00000000e+00, 1.47181795e-12,\n",
       "       1.90173536e-12, 0.00000000e+00, 3.95305997e-13, 3.62173826e-13,\n",
       "       9.27095987e-12, 0.00000000e+00, 2.67764874e-11, 0.00000000e+00,\n",
       "       7.45791241e-11, 9.11373804e-12, 0.00000000e+00, 2.38893203e-11,\n",
       "       1.56166784e-10, 1.26510195e-12, 1.21560661e-11, 2.60972334e-10,\n",
       "       0.00000000e+00, 1.60821738e-13, 3.99534724e-12, 0.00000000e+00,\n",
       "       6.77344096e-10, 0.00000000e+00, 5.89046369e-14, 1.59472357e-15,\n",
       "       0.00000000e+00, 1.04004744e-11, 3.77625547e-12, 2.56583066e-15,\n",
       "       0.00000000e+00, 8.71645857e-10, 6.74011902e-12, 9.03195177e-11,\n",
       "       1.55010881e-10, 0.00000000e+00, 0.00000000e+00, 3.77383452e-12,\n",
       "       5.37166528e-13, 0.00000000e+00, 9.63995093e-12, 0.00000000e+00,\n",
       "       0.00000000e+00, 3.43103647e-13, 0.00000000e+00, 1.59898776e-10,\n",
       "       3.09056917e-12, 0.00000000e+00, 6.23839306e-11, 1.22586877e-13,\n",
       "       0.00000000e+00, 5.05910061e-12, 0.00000000e+00, 8.03031843e-14,\n",
       "       0.00000000e+00, 1.85084675e-12, 2.08757599e-11, 5.95443880e-12,\n",
       "       8.26908968e-12, 1.47170203e-11, 7.15617575e-11, 0.00000000e+00,\n",
       "       1.29461639e-11, 6.29302453e-12, 0.00000000e+00, 2.52629562e-08,\n",
       "       8.70302186e-13, 8.55396338e-12, 0.00000000e+00, 1.83094875e-09,\n",
       "       8.97068532e-12, 0.00000000e+00, 2.69962935e-11, 2.66207258e-10,\n",
       "       7.15617575e-11, 0.00000000e+00])"
      ]
     },
     "execution_count": 48,
     "metadata": {},
     "output_type": "execute_result"
    }
   ],
   "source": [
    "pval"
   ]
  },
  {
   "cell_type": "code",
   "execution_count": 49,
   "metadata": {},
   "outputs": [],
   "source": [
    "predsscr = predict(testing_data, m, pval)"
   ]
  },
  {
   "cell_type": "code",
   "execution_count": 50,
   "metadata": {},
   "outputs": [
    {
     "data": {
      "text/plain": [
       "array([0., 0., 1., 0., 1., 0., 0., 0., 1., 1., 1., 1., 0., 1., 0., 1., 0.,\n",
       "       1., 1., 0., 0., 0., 1., 0., 1., 0., 1., 1., 1., 1., 0., 1., 1., 0.,\n",
       "       0., 1., 0., 1., 0., 0., 0., 0., 0., 1., 1., 0., 1., 1., 1., 0., 0.,\n",
       "       1., 1., 1., 0., 1., 1., 1., 0., 1., 1., 1., 0., 0., 1., 0., 1., 1.,\n",
       "       1., 0., 1., 0., 1., 0., 1., 1., 0., 0., 1., 1., 1., 1., 0., 0., 0.,\n",
       "       0., 1., 1., 0., 1., 0., 1., 0., 1., 1., 1., 1., 0., 1., 1., 1., 0.,\n",
       "       1., 0., 0., 1., 1., 1., 1., 0., 0., 1., 1., 1., 0., 1., 0., 1., 1.,\n",
       "       0., 0., 0., 0., 1., 1., 0., 1., 0., 1., 1., 0., 1., 1., 0., 1., 1.,\n",
       "       1., 0., 0., 1., 1., 0., 0., 1., 1., 0., 1., 1., 1., 0., 1., 0., 1.,\n",
       "       0., 0., 1., 1., 1., 0., 0., 1., 1., 1., 1., 0., 1., 0., 1., 0., 0.,\n",
       "       0., 0., 0., 1., 0., 1., 1., 0., 0., 0., 1., 0., 1., 1., 0., 1., 0.,\n",
       "       0., 1., 1., 0., 0., 1., 1., 1., 0., 1., 0., 0., 1., 1., 1., 0., 1.,\n",
       "       0.])"
      ]
     },
     "execution_count": 50,
     "metadata": {},
     "output_type": "execute_result"
    }
   ],
   "source": [
    "predsscr"
   ]
  },
  {
   "cell_type": "code",
   "execution_count": 51,
   "metadata": {},
   "outputs": [
    {
     "data": {
      "text/plain": [
       "array([[ 87,   9],\n",
       "       [  5, 104]])"
      ]
     },
     "execution_count": 51,
     "metadata": {},
     "output_type": "execute_result"
    }
   ],
   "source": [
    "confusion_matrix(testing_data['target'], predsscr)"
   ]
  },
  {
   "cell_type": "code",
   "execution_count": 52,
   "metadata": {},
   "outputs": [
    {
     "data": {
      "text/plain": [
       "array([1, 1, 0, 1, 0, 0, 0, 0, 0, 1, 1, 0, 0, 1, 1, 1, 1, 0, 1, 0, 1, 1,\n",
       "       1, 1, 1, 1, 1, 0, 1, 1, 1, 0, 0, 1, 0, 0, 0, 0, 1, 1, 1, 1, 1, 1,\n",
       "       1, 1, 1, 1, 0, 0, 1, 0, 1, 1, 0, 0, 0, 1, 0, 1, 1, 0, 1, 1, 0, 0,\n",
       "       0, 1, 1, 1, 1, 1, 1, 0, 0, 0, 0, 0, 0, 0, 0, 1, 0, 1, 1, 0, 1, 0,\n",
       "       1, 0, 0, 0, 1, 0, 1, 0, 1, 0, 1, 1, 1, 0, 1, 0, 0, 1, 0, 1, 0, 1,\n",
       "       1, 0, 0, 0, 1, 0, 1, 0, 0, 0, 1, 1, 1, 0, 1, 1, 1, 1, 1, 0, 0, 0,\n",
       "       1, 1, 1, 0, 0, 1, 0, 1, 0, 0, 0, 0, 0, 1, 1, 0, 1, 1, 1, 1, 1, 0,\n",
       "       0, 0, 1, 1, 0, 0, 0, 1, 1, 0, 1, 1, 1, 1, 1, 1, 1, 1, 1, 1, 1, 1,\n",
       "       1, 1, 1, 0, 0, 0, 0, 0, 1, 0, 1, 0, 1, 0, 0, 1, 0, 1, 0, 1, 1, 1,\n",
       "       1, 0, 1, 1, 1, 0, 1])"
      ]
     },
     "execution_count": 52,
     "metadata": {},
     "output_type": "execute_result"
    }
   ],
   "source": [
    "Y_pred_nb"
   ]
  },
  {
   "cell_type": "code",
   "execution_count": 53,
   "metadata": {},
   "outputs": [
    {
     "name": "stdout",
     "output_type": "stream",
     "text": [
      "              precision    recall  f1-score   support\n",
      "\n",
      "     class 0       0.95      0.91      0.93        96\n",
      "     class 1       0.92      0.95      0.94       109\n",
      "\n",
      "    accuracy                           0.93       205\n",
      "   macro avg       0.93      0.93      0.93       205\n",
      "weighted avg       0.93      0.93      0.93       205\n",
      "\n"
     ]
    }
   ],
   "source": [
    "from sklearn.metrics import classification_report\n",
    "target_names = ['class 0', 'class 1']\n",
    "print(classification_report(testing_data['target'], predsscr, target_names=target_names))"
   ]
  },
  {
   "cell_type": "markdown",
   "metadata": {},
   "source": [
    "## Encrypted NBC"
   ]
  },
  {
   "cell_type": "code",
   "execution_count": 54,
   "metadata": {},
   "outputs": [],
   "source": [
    "import tenseal as ts\n",
    "from time import time"
   ]
  },
  {
   "cell_type": "code",
   "execution_count": 55,
   "metadata": {},
   "outputs": [
    {
     "data": {
      "text/plain": [
       "<tenseal.enc_context.Context at 0x13b4d1cd0>"
      ]
     },
     "execution_count": 55,
     "metadata": {},
     "output_type": "execute_result"
    }
   ],
   "source": [
    "intcont = ts.context(ts.SCHEME_TYPE.BFV, poly_modulus_degree=4096, plain_modulus=1032193)\n",
    "intcont"
   ]
  },
  {
   "cell_type": "code",
   "execution_count": 56,
   "metadata": {},
   "outputs": [],
   "source": [
    "# parameters\n",
    "poly_mod_degree = 4096\n",
    "coeff_mod_bit_sizes = [40, 20, 40]\n",
    "# create TenSEALContext\n",
    "ctx_eval = ts.context(ts.SCHEME_TYPE.CKKS, poly_mod_degree, -1, coeff_mod_bit_sizes)\n",
    "# scale of ciphertext to use\n",
    "ctx_eval.global_scale = 2 ** 20\n",
    "# this key is needed for doing dot-product operations\n",
    "ctx_eval.generate_galois_keys()"
   ]
  },
  {
   "cell_type": "code",
   "execution_count": 57,
   "metadata": {},
   "outputs": [],
   "source": [
    "def encrypt_ds(X):\n",
    "    numr = X.shape[0]\n",
    "    for i in range(numr):\n",
    "        for col in X.columns:\n",
    "            if type(X.iloc[i][col]) is int: \n",
    "                X.at[i, col] = ts.bfv_vector(intcont, [X.iloc[i][col]])\n",
    "            else:\n",
    "                X.at[i, col] = ts.ckks_vector(ctx_eval, [X.iloc[i][col]])"
   ]
  },
  {
   "cell_type": "code",
   "execution_count": 58,
   "metadata": {},
   "outputs": [],
   "source": [
    "newdset = dataset"
   ]
  },
  {
   "cell_type": "code",
   "execution_count": 59,
   "metadata": {},
   "outputs": [],
   "source": [
    "encrypt_ds(dataset)"
   ]
  },
  {
   "cell_type": "code",
   "execution_count": 60,
   "metadata": {},
   "outputs": [],
   "source": [
    "training_dataenc = dataset.sample(frac=0.8, random_state=25)\n",
    "testing_dataenc = dataset.drop(training_dataenc.index)"
   ]
  },
  {
   "cell_type": "code",
   "execution_count": 61,
   "metadata": {},
   "outputs": [
    {
     "data": {
      "text/plain": [
       "<tenseal.tensors.bfvvector.BFVVector at 0x13b4f3250>"
      ]
     },
     "execution_count": 61,
     "metadata": {},
     "output_type": "execute_result"
    }
   ],
   "source": [
    "dataset.iloc[3]['sex']"
   ]
  },
  {
   "cell_type": "code",
   "execution_count": 62,
   "metadata": {},
   "outputs": [],
   "source": [
    "'''\n",
    "def decser(ser, c):\n",
    "    if c == 1: return [k.decrypt()[0] is 1 for k in ser]\n",
    "    return [k.decrypt()[0] is 0 for k in ser]\n",
    "'''\n",
    "def filt(ser, c):\n",
    "    return [k.decrypt()[0] == c for k in ser]\n",
    "def calc_prior_prob_enc(X, c):\n",
    "    cdataset = X.loc[filt(X['target'], c)]\n",
    "    return cdataset.shape[0] * ts.ckks_vector(ctx_eval, [1/X.shape[0]])"
   ]
  },
  {
   "cell_type": "code",
   "execution_count": 63,
   "metadata": {},
   "outputs": [
    {
     "name": "stdout",
     "output_type": "stream",
     "text": [
      "[1]\n"
     ]
    }
   ],
   "source": [
    "print(dataset.iloc[1023]['target'].decrypt())"
   ]
  },
  {
   "cell_type": "code",
   "execution_count": 64,
   "metadata": {},
   "outputs": [
    {
     "name": "stdout",
     "output_type": "stream",
     "text": [
      "<tenseal.tensors.ckksvector.CKKSVector object at 0x13b4ca910>\n",
      "<tenseal.tensors.ckksvector.CKKSVector object at 0x138518c40>\n"
     ]
    }
   ],
   "source": [
    "print(calc_prior_prob_enc(dataset, 0))\n",
    "print(calc_prior_prob_enc(dataset, 1))"
   ]
  },
  {
   "cell_type": "code",
   "execution_count": 91,
   "metadata": {},
   "outputs": [],
   "source": [
    "def filtfloat(ser, c):\n",
    "    return [round(k.decrypt()[0], 2) == round(c.decrypt()[0], 2) for k in ser]\n",
    "def posterior_enc(X, x, c):\n",
    "    cdataset = X.loc[filt(X['target'], c)]\n",
    "    #print(cdataset.shape[0])\n",
    "    ans = 1.0\n",
    "    columns = X.columns\n",
    "    columns = np.delete(columns, -1)\n",
    "    for col in columns:\n",
    "        ans = ans * round(((cdataset[filtfloat(cdataset[col], x[col])]).shape[0]/cdataset.shape[0]), 2)\n",
    "    return ans"
   ]
  },
  {
   "cell_type": "code",
   "execution_count": 92,
   "metadata": {},
   "outputs": [],
   "source": [
    "def model_enc(X):\n",
    "    prior0 = calc_prior_prob_enc(X, 0)\n",
    "    prior1 = calc_prior_prob_enc(X, 1)\n",
    "    return [prior0, prior1]"
   ]
  },
  {
   "cell_type": "code",
   "execution_count": 93,
   "metadata": {},
   "outputs": [],
   "source": [
    "def postval_enc(X, Y):\n",
    "    pval = np.array([])\n",
    "    for i in range(Y.shape[0]):\n",
    "        pval = np.append(pval, posterior_enc(X, Y.iloc[i], 0))\n",
    "        pval = np.append(pval, posterior_enc(X, Y.iloc[i], 1))\n",
    "    return pval"
   ]
  },
  {
   "cell_type": "code",
   "execution_count": 98,
   "metadata": {},
   "outputs": [],
   "source": [
    "def predict_enc(Y, pr, pos):\n",
    "    preds = np.array([])\n",
    "    i = 0\n",
    "    while i < 2*Y.shape[0]:\n",
    "        p0 = pr[0].decrypt()[0] * pos[i]\n",
    "        print(p0)\n",
    "        p1 = pr[1].decrypt()[0] * pos[i+1]\n",
    "        print(p1)\n",
    "        if p0>p1: c = 0\n",
    "        else: c = 1\n",
    "        preds = np.append(preds, c)\n",
    "        i = i+2\n",
    "    return preds"
   ]
  },
  {
   "cell_type": "code",
   "execution_count": 95,
   "metadata": {},
   "outputs": [
    {
     "name": "stdout",
     "output_type": "stream",
     "text": [
      "[<tenseal.tensors.ckksvector.CKKSVector object at 0x13b99c610>, <tenseal.tensors.ckksvector.CKKSVector object at 0x13b94e8e0>]\n"
     ]
    }
   ],
   "source": [
    "menc = model_enc(training_dataenc)\n",
    "print(menc)"
   ]
  },
  {
   "cell_type": "code",
   "execution_count": 96,
   "metadata": {},
   "outputs": [],
   "source": [
    "pvalenc = postval_enc(training_dataenc, testing_dataenc)"
   ]
  },
  {
   "cell_type": "code",
   "execution_count": 99,
   "metadata": {},
   "outputs": [
    {
     "name": "stdout",
     "output_type": "stream",
     "text": [
      "1.9775183714613028e-10\n",
      "0.0\n",
      "2.434646241838187e-13\n",
      "0.0\n",
      "0.0\n",
      "0.0\n",
      "0.0\n",
      "0.0\n",
      "0.0\n",
      "0.0\n",
      "3.2476353189146546e-11\n",
      "0.0\n",
      "2.2467210784605012e-14\n",
      "0.0\n",
      "9.468324544940682e-11\n",
      "0.0\n",
      "0.0\n",
      "0.0\n",
      "0.0\n",
      "0.0\n",
      "2.273263896079508e-13\n",
      "0.0\n",
      "0.0\n",
      "1.470575096223353e-10\n",
      "0.0\n",
      "0.0\n",
      "0.0\n",
      "1.752773821647592e-11\n",
      "3.8831269839603775e-12\n",
      "0.0\n",
      "0.0\n",
      "6.224294593317448e-10\n",
      "3.565017711263059e-12\n",
      "0.0\n",
      "0.0\n",
      "0.0\n",
      "0.0\n",
      "0.0\n",
      "2.18484656875979e-12\n",
      "0.0\n",
      "2.812092389847382e-12\n",
      "0.0\n",
      "0.0\n",
      "0.0\n",
      "0.0\n",
      "0.0\n",
      "3.119390497355175e-11\n",
      "0.0\n",
      "0.0\n",
      "0.0\n",
      "7.731737283618886e-10\n",
      "0.0\n",
      "0.0\n",
      "4.382327517490347e-12\n",
      "0.0\n",
      "0.0\n",
      "0.0\n",
      "0.0\n",
      "0.0\n",
      "6.668887064268693e-10\n",
      "8.762212205995953e-12\n",
      "0.0\n",
      "0.0\n",
      "0.0\n",
      "0.0\n",
      "3.957241748293783e-10\n",
      "0.0\n",
      "0.0\n",
      "0.0\n",
      "0.0\n",
      "0.0\n",
      "0.0\n",
      "0.0\n",
      "0.0\n",
      "0.0\n",
      "0.0\n",
      "8.475505820035471e-12\n",
      "0.0\n",
      "1.8633159237534924e-10\n",
      "0.0\n",
      "2.2840337190378063e-10\n",
      "0.0\n",
      "0.0\n",
      "0.0\n",
      "3.968817358751606e-14\n",
      "0.0\n",
      "0.0\n",
      "0.0\n",
      "0.0\n",
      "0.0\n",
      "0.0\n",
      "0.0\n",
      "0.0\n",
      "2.6675548257074773e-10\n",
      "0.0\n",
      "0.0\n",
      "0.0\n",
      "0.0\n",
      "3.141573644588794e-13\n",
      "0.0\n",
      "0.0\n",
      "0.0\n",
      "0.0\n",
      "0.0\n",
      "0.0\n",
      "3.956202556658201e-10\n",
      "0.0\n",
      "0.0\n",
      "0.0\n",
      "0.0\n",
      "0.0\n",
      "0.0\n",
      "0.0\n",
      "3.505547643295184e-11\n",
      "2.921333957840562e-12\n",
      "0.0\n",
      "0.0\n",
      "0.0\n",
      "0.0\n",
      "3.956202556658201e-10\n",
      "0.0\n",
      "1.778369883804985e-10\n",
      "0.0\n",
      "0.0\n",
      "6.94378790075195e-14\n",
      "0.0\n",
      "3.8831269839603775e-12\n",
      "0.0\n",
      "0.0\n",
      "3.7074490797968333e-10\n",
      "2.2651574073102206e-10\n",
      "0.0\n",
      "0.0\n",
      "0.0\n",
      "0.0\n",
      "0.0\n",
      "0.0\n",
      "0.0\n",
      "6.211053079178308e-10\n",
      "1.7351566621203977e-11\n",
      "0.0\n",
      "0.0\n",
      "0.0\n",
      "0.0\n",
      "0.0\n",
      "0.0\n",
      "0.0\n",
      "6.264911223645537e-13\n",
      "0.0\n",
      "0.0\n",
      "0.0\n",
      "3.505547643295184e-11\n",
      "1.6769843313781425e-10\n",
      "0.0\n",
      "4.159187329806903e-13\n",
      "0.0\n",
      "0.0\n",
      "0.0\n",
      "0.0\n",
      "7.632983399581716e-11\n",
      "0.0\n",
      "9.550370182054187e-13\n",
      "0.0\n",
      "9.701963359547111e-14\n",
      "0.0\n",
      "0.0\n",
      "1.144018892580919e-11\n",
      "0.0\n",
      "5.8246904759405655e-12\n",
      "0.0\n",
      "0.0\n",
      "0.0\n",
      "0.0\n",
      "0.0\n",
      "0.0\n",
      "1.426400844301915e-09\n",
      "3.565017711263058e-12\n",
      "1.374444809269174e-12\n",
      "1.0604523490333564e-11\n",
      "2.396401764984957e-11\n",
      "1.384262860022913e-12\n",
      "0.0\n",
      "8.827662904079957e-13\n",
      "7.169053594088845e-10\n",
      "4.935885855167414e-11\n",
      "7.822207958634859e-13\n",
      "0.0\n",
      "0.0\n",
      "0.0\n",
      "0.0\n",
      "0.0\n",
      "2.5493635797712315e-12\n",
      "0.0\n",
      "0.0\n",
      "1.2886228806031474e-10\n",
      "0.0\n",
      "0.0\n",
      "0.0\n",
      "0.0\n",
      "0.0\n",
      "0.0\n",
      "3.956202556658201e-10\n",
      "2.11414691348954e-11\n",
      "0.0\n",
      "0.0\n",
      "0.0\n",
      "1.8342016124448444e-12\n",
      "0.0\n",
      "9.732498351748154e-12\n",
      "1.0744166454810959e-13\n",
      "5.874665001747288e-14\n",
      "1.1278048758247217e-13\n",
      "0.0\n",
      "3.915094068934391e-12\n",
      "0.0\n",
      "6.2242945933174465e-09\n",
      "0.0\n",
      "0.0\n",
      "0.0\n",
      "0.0\n",
      "3.968817358751606e-14\n",
      "0.0\n",
      "0.0\n",
      "0.0\n",
      "0.0\n",
      "0.0\n",
      "0.0\n",
      "3.957241748293783e-10\n",
      "0.0\n",
      "0.0\n",
      "0.0\n",
      "3.077046432956379e-09\n",
      "0.0\n",
      "0.0\n",
      "2.3670811362351697e-12\n",
      "1.4829796319187333e-09\n",
      "1.6569567953646188e-11\n",
      "0.0\n",
      "2.2651574073102206e-10\n",
      "0.0\n",
      "4.152788580068736e-11\n",
      "0.0\n",
      "0.0\n",
      "0.0\n",
      "0.0\n",
      "0.0\n",
      "0.0\n",
      "0.0\n",
      "0.0\n",
      "3.3455583439081284e-09\n",
      "1.3420413908670728e-12\n",
      "0.0\n",
      "0.0\n",
      "0.0\n",
      "0.0\n",
      "0.0\n",
      "0.0\n",
      "0.0\n",
      "1.0604523490333564e-11\n",
      "2.396401764984957e-11\n",
      "0.0\n",
      "0.0\n",
      "2.450949676493352e-11\n",
      "1.4431670497326323e-11\n",
      "0.0\n",
      "8.769810714413038e-11\n",
      "0.0\n",
      "0.0\n",
      "0.0\n",
      "7.632983399581716e-11\n",
      "0.0\n",
      "3.956202556658201e-10\n",
      "0.0\n",
      "0.0\n",
      "1.0253166987849907e-12\n",
      "0.0\n",
      "1.186511022876782e-09\n",
      "0.0\n",
      "0.0\n",
      "0.0\n",
      "0.0\n",
      "0.0\n",
      "1.144018892580919e-11\n",
      "0.0\n",
      "1.144018892580919e-11\n",
      "0.0\n",
      "0.0\n",
      "2.02261270038016e-12\n",
      "0.0\n",
      "0.0\n",
      "0.0\n",
      "0.0\n",
      "0.0\n",
      "1.3093814608325016e-11\n",
      "0.0\n",
      "6.782885133743372e-10\n",
      "0.0\n",
      "2.0880501700983412e-12\n",
      "4.8891671468750516e-11\n",
      "0.0\n",
      "0.0\n",
      "2.8262021390597385e-12\n",
      "0.0\n",
      "0.0\n",
      "0.0\n",
      "1.752773821647592e-11\n",
      "0.0\n",
      "0.0\n",
      "1.6769843313781425e-10\n",
      "0.0\n",
      "0.0\n",
      "5.006200532133071e-12\n",
      "0.0\n",
      "0.0\n",
      "0.0\n",
      "3.824045369656847e-12\n",
      "5.989229754921938e-12\n",
      "0.0\n",
      "5.646988054640684e-11\n",
      "0.0\n",
      "0.0\n",
      "1.1243347069760301e-12\n",
      "0.0\n",
      "4.11901848087184e-10\n",
      "2.921333957840562e-12\n",
      "0.0\n",
      "1.1617754576699992e-11\n",
      "1.644339508952444e-10\n",
      "6.215370934692676e-13\n",
      "0.0\n",
      "0.0\n",
      "2.8969456218897706e-10\n",
      "0.0\n",
      "0.0\n",
      "0.0\n",
      "2.462546949940603e-13\n",
      "0.0\n",
      "0.0\n",
      "1.446755864835326e-13\n",
      "0.0\n",
      "4.083565741992231e-12\n",
      "0.0\n",
      "7.40382878275112e-12\n",
      "0.0\n",
      "0.0\n",
      "0.0\n",
      "0.0\n",
      "0.0\n",
      "3.119390497355177e-11\n",
      "3.1717957136980936e-13\n",
      "0.0\n",
      "4.4459247095124626e-11\n",
      "0.0\n",
      "0.0\n",
      "0.0\n",
      "0.0\n",
      "3.952891638248479e-10\n",
      "0.0\n",
      "0.0\n",
      "0.0\n",
      "0.0\n",
      "0.0\n",
      "1.0756167723125116e-12\n",
      "0.0\n",
      "0.0\n",
      "0.0\n",
      "0.0\n",
      "1.6133303914684392e-11\n",
      "0.0\n",
      "0.0\n",
      "0.0\n",
      "0.0\n",
      "4.575106062787593e-13\n",
      "0.0\n",
      "0.0\n",
      "0.0\n",
      "0.0\n",
      "0.0\n",
      "0.0\n",
      "3.6902849636866626e-11\n",
      "0.0\n",
      "0.0\n",
      "1.7672981133968076e-11\n",
      "0.0\n",
      "0.0\n",
      "0.0\n",
      "0.0\n",
      "0.0\n",
      "0.0\n",
      "0.0\n",
      "1.029398864127208e-11\n",
      "3.2744126338471494e-13\n",
      "0.0\n",
      "2.946971370462435e-12\n",
      "0.0\n",
      "0.0\n",
      "0.0\n",
      "0.0\n",
      "0.0\n",
      "6.2242945933174465e-09\n",
      "0.0\n",
      "0.0\n",
      "0.0\n",
      "2.6675548257074773e-10\n",
      "0.0\n",
      "0.0\n",
      "1.6569567953646188e-11\n",
      "0.0\n",
      "0.0\n",
      "0.0\n"
     ]
    }
   ],
   "source": [
    "predencr = predict_enc(testing_dataenc, menc, pvalenc)"
   ]
  },
  {
   "cell_type": "code",
   "execution_count": 100,
   "metadata": {},
   "outputs": [
    {
     "name": "stdout",
     "output_type": "stream",
     "text": [
      "[0.4486298419372626]\n"
     ]
    }
   ],
   "source": [
    "print(menc[0].decrypt())"
   ]
  },
  {
   "cell_type": "code",
   "execution_count": 101,
   "metadata": {},
   "outputs": [],
   "source": [
    "res = np.array([x.decrypt()[0] for x in testing_dataenc['target']])"
   ]
  },
  {
   "cell_type": "code",
   "execution_count": 102,
   "metadata": {},
   "outputs": [
    {
     "data": {
      "text/plain": [
       "array([0, 0, 1, 0, 1, 0, 0, 0, 1, 1, 1, 1, 0, 1, 0, 1, 0, 1, 1, 0, 0, 0,\n",
       "       1, 0, 0, 0, 1, 1, 1, 1, 0, 1, 1, 0, 0, 1, 0, 1, 0, 0, 0, 0, 1, 1,\n",
       "       1, 0, 1, 1, 1, 0, 0, 1, 1, 1, 0, 1, 1, 1, 0, 1, 1, 0, 0, 0, 1, 0,\n",
       "       1, 1, 1, 0, 1, 0, 1, 0, 1, 1, 0, 0, 1, 0, 1, 1, 0, 0, 0, 0, 1, 1,\n",
       "       0, 1, 0, 0, 0, 1, 1, 0, 1, 0, 1, 1, 1, 0, 1, 0, 0, 1, 1, 1, 1, 0,\n",
       "       1, 1, 1, 1, 0, 1, 0, 1, 1, 0, 0, 0, 0, 1, 1, 0, 1, 0, 1, 1, 0, 1,\n",
       "       1, 0, 0, 1, 1, 0, 0, 1, 1, 0, 0, 1, 1, 0, 1, 1, 1, 0, 1, 0, 1, 0,\n",
       "       0, 1, 1, 1, 0, 0, 1, 1, 1, 1, 0, 1, 0, 1, 0, 0, 0, 0, 0, 1, 0, 0,\n",
       "       1, 0, 0, 1, 1, 0, 1, 0, 0, 1, 0, 0, 1, 1, 0, 1, 1, 1, 1, 0, 1, 0,\n",
       "       1, 1, 0, 1, 0, 1, 0])"
      ]
     },
     "execution_count": 102,
     "metadata": {},
     "output_type": "execute_result"
    }
   ],
   "source": [
    "res"
   ]
  },
  {
   "cell_type": "code",
   "execution_count": 103,
   "metadata": {},
   "outputs": [
    {
     "data": {
      "text/plain": [
       "array([0., 0., 1., 1., 1., 0., 0., 0., 1., 1., 0., 1., 1., 1., 0., 1., 0.,\n",
       "       1., 1., 0., 0., 1., 1., 0., 1., 0., 1., 1., 1., 1., 0., 1., 1., 1.,\n",
       "       1., 1., 1., 1., 0., 0., 0., 1., 0., 1., 1., 1., 1., 1., 1., 0., 1.,\n",
       "       1., 1., 1., 1., 1., 1., 0., 1., 1., 1., 1., 0., 0., 1., 0., 1., 1.,\n",
       "       1., 0., 1., 1., 1., 1., 1., 1., 0., 0., 1., 1., 1., 1., 1., 0., 0.,\n",
       "       1., 1., 1., 0., 1., 0., 1., 0., 1., 1., 1., 1., 0., 1., 1., 1., 0.,\n",
       "       1., 0., 0., 1., 1., 1., 1., 1., 0., 1., 1., 1., 1., 1., 1., 1., 0.,\n",
       "       0., 0., 1., 1., 1., 1., 0., 1., 1., 1., 1., 1., 0., 1., 1., 1., 1.,\n",
       "       1., 0., 0., 1., 1., 0., 0., 1., 1., 1., 1., 1., 1., 0., 1., 1., 1.,\n",
       "       1., 0., 1., 1., 1., 0., 0., 1., 1., 0., 1., 0., 1., 1., 1., 1., 0.,\n",
       "       0., 0., 1., 1., 0., 1., 1., 1., 0., 1., 1., 0., 1., 1., 1., 1., 0.,\n",
       "       1., 1., 1., 1., 0., 1., 1., 1., 0., 1., 1., 1., 1., 1., 1., 1., 0.,\n",
       "       1.])"
      ]
     },
     "execution_count": 103,
     "metadata": {},
     "output_type": "execute_result"
    }
   ],
   "source": [
    "predencr"
   ]
  },
  {
   "cell_type": "code",
   "execution_count": 104,
   "metadata": {},
   "outputs": [
    {
     "data": {
      "text/plain": [
       "array([[ 51,  45],\n",
       "       [  9, 100]])"
      ]
     },
     "execution_count": 104,
     "metadata": {},
     "output_type": "execute_result"
    }
   ],
   "source": [
    "confusion_matrix(res, predencr)"
   ]
  },
  {
   "cell_type": "code",
   "execution_count": 105,
   "metadata": {},
   "outputs": [
    {
     "name": "stdout",
     "output_type": "stream",
     "text": [
      "              precision    recall  f1-score   support\n",
      "\n",
      "     class 0       0.85      0.53      0.65        96\n",
      "     class 1       0.69      0.92      0.79       109\n",
      "\n",
      "    accuracy                           0.74       205\n",
      "   macro avg       0.77      0.72      0.72       205\n",
      "weighted avg       0.76      0.74      0.72       205\n",
      "\n"
     ]
    }
   ],
   "source": [
    "from sklearn.metrics import classification_report\n",
    "target_names = ['class 0', 'class 1']\n",
    "print(classification_report(res, predencr, target_names=target_names))"
   ]
  },
  {
   "cell_type": "markdown",
   "metadata": {},
   "source": [
    "#### Plotting the ROC curve"
   ]
  },
  {
   "cell_type": "code",
   "execution_count": 106,
   "metadata": {},
   "outputs": [
    {
     "data": {
      "image/png": "[encoded data removed]",
      "text/plain": [
       "<Figure size 432x288 with 1 Axes>"
      ]
     },
     "metadata": {
      "needs_background": "light"
     },
     "output_type": "display_data"
    }
   ],
   "source": [
    "import sklearn.metrics as metrics\n",
    "# calculate the fpr and tpr for all thresholds of the classification\n",
    "probs = nb.predict_proba(X_test)\n",
    "preds = probs[:,1]\n",
    "fpr, tpr, threshold = metrics.roc_curve(Y_test, preds)\n",
    "roc_auc = metrics.auc(fpr, tpr)\n",
    "\n",
    "fpr1, tpr1, threshold1 = metrics.roc_curve(testing_data['target'], predsscr)\n",
    "roc_auc1 = metrics.auc(fpr1, tpr1)\n",
    "\n",
    "fpr2, tpr2, threshold2 = metrics.roc_curve(res, predencr)\n",
    "roc_auc2 = metrics.auc(fpr2, tpr2)\n",
    "\n",
    "import matplotlib.pyplot as plt\n",
    "plt.title('Receiver Operating Characteristic')\n",
    "plt.plot(fpr, tpr, 'b', label = 'AUC = %0.2f' % roc_auc)\n",
    "plt.plot(fpr1, tpr1, 'g', label = 'AUC = %0.2f' % roc_auc1)\n",
    "plt.plot(fpr2, tpr2, 'y', label = 'AUC = %0.2f' % roc_auc2)\n",
    "plt.legend(loc = 'lower right')\n",
    "plt.plot([0, 1], [0, 1],'r--')\n",
    "plt.xlim([0, 1])\n",
    "plt.ylim([0, 1])\n",
    "plt.ylabel('True Positive Rate')\n",
    "plt.xlabel('False Positive Rate')\n",
    "plt.show()"
   ]
  }
 ],
 "metadata": {
  "interpreter": {
   "hash": "5edc29c2ed010d6458d71a83433b383a96a8cbd3efe8531bc90c4b8a5b8bcec9"
  },
  "kernelspec": {
   "display_name": "Python 3 (ipykernel)",
   "language": "python",
   "name": "python3"
  },
  "language_info": {
   "codemirror_mode": {
    "name": "ipython",
    "version": 3
   },
   "file_extension": ".py",
   "mimetype": "text/x-python",
   "name": "python",
   "nbconvert_exporter": "python",
   "pygments_lexer": "ipython3",
   "version": "3.9.7"
  }
 },
 "nbformat": 4,
 "nbformat_minor": 2
}
